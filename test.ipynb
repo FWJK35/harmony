{
 "cells": [
  {
   "cell_type": "code",
   "execution_count": null,
   "metadata": {
    "vscode": {
     "languageId": "plaintext"
    }
   },
   "outputs": [],
   "source": []
  }
 ],
 "metadata": {
  "kernelspec": {
   "display_name": "Python 3.9.7 ('pyclass')",
   "language": "python",
   "name": "python3"
  },
  "language_info": {
   "name": "python",
   "version": "3.9.7"
  },
  "orig_nbformat": 4,
  "vscode": {
   "interpreter": {
    "hash": "63bbf315c297e752b16b632b743bb6b94bd3e716ac3b12408d332dd5b24a96b2"
   }
  }
 },
 "nbformat": 4,
 "nbformat_minor": 2
}
